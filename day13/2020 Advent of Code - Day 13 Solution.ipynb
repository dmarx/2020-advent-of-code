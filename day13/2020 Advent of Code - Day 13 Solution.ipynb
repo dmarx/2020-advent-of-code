{
 "cells": [
  {
   "cell_type": "markdown",
   "metadata": {},
   "source": [
    "# Part 1"
   ]
  },
  {
   "cell_type": "code",
   "execution_count": 1,
   "metadata": {},
   "outputs": [],
   "source": [
    "import pandas as pd\n",
    "import numpy as np"
   ]
  },
  {
   "cell_type": "code",
   "execution_count": 4,
   "metadata": {},
   "outputs": [],
   "source": [
    "with open('input.txt', 'r') as f:\n",
    "    t0_str, busses_str = [line for line in f]"
   ]
  },
  {
   "cell_type": "code",
   "execution_count": 3,
   "metadata": {},
   "outputs": [
    {
     "data": {
      "text/plain": [
       "1000053"
      ]
     },
     "execution_count": 3,
     "metadata": {},
     "output_type": "execute_result"
    }
   ],
   "source": [
    "t0 = int(t0_str.strip())\n",
    "t0"
   ]
  },
  {
   "cell_type": "code",
   "execution_count": 4,
   "metadata": {},
   "outputs": [
    {
     "data": {
      "text/plain": [
       "[19, 37, 523, 13, 23, 29, 547, 41, 17]"
      ]
     },
     "execution_count": 4,
     "metadata": {},
     "output_type": "execute_result"
    }
   ],
   "source": [
    "bus_ids = [int(bus_id) for bus_id in busses_str.strip().split(',') if bus_id != 'x']\n",
    "bus_ids"
   ]
  },
  {
   "cell_type": "code",
   "execution_count": 5,
   "metadata": {},
   "outputs": [
    {
     "data": {
      "text/plain": [
       "[1000065,\n",
       " 1000073,\n",
       " 1000499,\n",
       " 1000064,\n",
       " 1000063,\n",
       " 1000065,\n",
       " 1000463,\n",
       " 1000072,\n",
       " 1000059]"
      ]
     },
     "execution_count": 5,
     "metadata": {},
     "output_type": "execute_result"
    }
   ],
   "source": [
    "bus_next_arrivals = []\n",
    "for bus in bus_ids:\n",
    "    arr = 0\n",
    "    while arr < t0:\n",
    "        arr+=bus\n",
    "    bus_next_arrivals.append(arr)\n",
    "bus_next_arrivals"
   ]
  },
  {
   "cell_type": "code",
   "execution_count": 6,
   "metadata": {},
   "outputs": [],
   "source": [
    "df = pd.DataFrame({'bus_id':bus_ids,'arr':bus_next_arrivals})"
   ]
  },
  {
   "cell_type": "code",
   "execution_count": 7,
   "metadata": {},
   "outputs": [],
   "source": [
    "df['wait'] = df['arr'] - t0"
   ]
  },
  {
   "cell_type": "code",
   "execution_count": 8,
   "metadata": {},
   "outputs": [
    {
     "data": {
      "text/html": [
       "<div>\n",
       "<style scoped>\n",
       "    .dataframe tbody tr th:only-of-type {\n",
       "        vertical-align: middle;\n",
       "    }\n",
       "\n",
       "    .dataframe tbody tr th {\n",
       "        vertical-align: top;\n",
       "    }\n",
       "\n",
       "    .dataframe thead th {\n",
       "        text-align: right;\n",
       "    }\n",
       "</style>\n",
       "<table border=\"1\" class=\"dataframe\">\n",
       "  <thead>\n",
       "    <tr style=\"text-align: right;\">\n",
       "      <th></th>\n",
       "      <th>bus_id</th>\n",
       "      <th>arr</th>\n",
       "      <th>wait</th>\n",
       "    </tr>\n",
       "  </thead>\n",
       "  <tbody>\n",
       "    <tr>\n",
       "      <th>8</th>\n",
       "      <td>17</td>\n",
       "      <td>1000059</td>\n",
       "      <td>6</td>\n",
       "    </tr>\n",
       "    <tr>\n",
       "      <th>4</th>\n",
       "      <td>23</td>\n",
       "      <td>1000063</td>\n",
       "      <td>10</td>\n",
       "    </tr>\n",
       "    <tr>\n",
       "      <th>3</th>\n",
       "      <td>13</td>\n",
       "      <td>1000064</td>\n",
       "      <td>11</td>\n",
       "    </tr>\n",
       "    <tr>\n",
       "      <th>0</th>\n",
       "      <td>19</td>\n",
       "      <td>1000065</td>\n",
       "      <td>12</td>\n",
       "    </tr>\n",
       "    <tr>\n",
       "      <th>5</th>\n",
       "      <td>29</td>\n",
       "      <td>1000065</td>\n",
       "      <td>12</td>\n",
       "    </tr>\n",
       "    <tr>\n",
       "      <th>7</th>\n",
       "      <td>41</td>\n",
       "      <td>1000072</td>\n",
       "      <td>19</td>\n",
       "    </tr>\n",
       "    <tr>\n",
       "      <th>1</th>\n",
       "      <td>37</td>\n",
       "      <td>1000073</td>\n",
       "      <td>20</td>\n",
       "    </tr>\n",
       "    <tr>\n",
       "      <th>6</th>\n",
       "      <td>547</td>\n",
       "      <td>1000463</td>\n",
       "      <td>410</td>\n",
       "    </tr>\n",
       "    <tr>\n",
       "      <th>2</th>\n",
       "      <td>523</td>\n",
       "      <td>1000499</td>\n",
       "      <td>446</td>\n",
       "    </tr>\n",
       "  </tbody>\n",
       "</table>\n",
       "</div>"
      ],
      "text/plain": [
       "   bus_id      arr  wait\n",
       "8      17  1000059     6\n",
       "4      23  1000063    10\n",
       "3      13  1000064    11\n",
       "0      19  1000065    12\n",
       "5      29  1000065    12\n",
       "7      41  1000072    19\n",
       "1      37  1000073    20\n",
       "6     547  1000463   410\n",
       "2     523  1000499   446"
      ]
     },
     "execution_count": 8,
     "metadata": {},
     "output_type": "execute_result"
    }
   ],
   "source": [
    "df.sort_values('wait', inplace=True)\n",
    "df"
   ]
  },
  {
   "cell_type": "code",
   "execution_count": 9,
   "metadata": {},
   "outputs": [
    {
     "data": {
      "text/plain": [
       "102"
      ]
     },
     "execution_count": 9,
     "metadata": {},
     "output_type": "execute_result"
    }
   ],
   "source": [
    "df[['bus_id', 'wait']].iloc[0].prod()"
   ]
  },
  {
   "cell_type": "markdown",
   "metadata": {},
   "source": [
    "# Part 2\n",
    "\n",
    "For each bus_id, recode as `id - position` to get `id2`. let `increment=gcd(id2 for id2 in ID2)`. return increment multiple higher than highest bus iD except 1st, to which it must be equal to or greater than."
   ]
  },
  {
   "cell_type": "code",
   "execution_count": 10,
   "metadata": {},
   "outputs": [],
   "source": [
    "df['id2'] = df['bus_id'] - df.index"
   ]
  },
  {
   "cell_type": "code",
   "execution_count": 11,
   "metadata": {},
   "outputs": [
    {
     "data": {
      "text/plain": [
       "array([  9,  19,  10,  19,  24,  34,  36, 541, 521], dtype=int64)"
      ]
     },
     "execution_count": 11,
     "metadata": {},
     "output_type": "execute_result"
    }
   ],
   "source": [
    "df['id2'].values"
   ]
  },
  {
   "cell_type": "code",
   "execution_count": 12,
   "metadata": {},
   "outputs": [
    {
     "data": {
      "text/plain": [
       "(1, 32774797080)"
      ]
     },
     "execution_count": 12,
     "metadata": {},
     "output_type": "execute_result"
    }
   ],
   "source": [
    "np.gcd.reduce(df['id2'].values.ravel()), np.lcm.reduce(df['id2']) # 1, 32774797080\n",
    "# submitted LCM (32774797080) as answer, too low\n",
    "# just making sure I didn't have an off-by-one error: 32774797081 still too low"
   ]
  },
  {
   "cell_type": "code",
   "execution_count": 13,
   "metadata": {},
   "outputs": [
    {
     "data": {
      "text/plain": [
       "1724989320.0"
      ]
     },
     "execution_count": 13,
     "metadata": {},
     "output_type": "execute_result"
    }
   ],
   "source": [
    "32774797080/19"
   ]
  },
  {
   "cell_type": "code",
   "execution_count": 14,
   "metadata": {},
   "outputs": [
    {
     "data": {
      "text/html": [
       "<div>\n",
       "<style scoped>\n",
       "    .dataframe tbody tr th:only-of-type {\n",
       "        vertical-align: middle;\n",
       "    }\n",
       "\n",
       "    .dataframe tbody tr th {\n",
       "        vertical-align: top;\n",
       "    }\n",
       "\n",
       "    .dataframe thead th {\n",
       "        text-align: right;\n",
       "    }\n",
       "</style>\n",
       "<table border=\"1\" class=\"dataframe\">\n",
       "  <thead>\n",
       "    <tr style=\"text-align: right;\">\n",
       "      <th></th>\n",
       "      <th>bus_id</th>\n",
       "      <th>arr</th>\n",
       "      <th>wait</th>\n",
       "      <th>id2</th>\n",
       "    </tr>\n",
       "  </thead>\n",
       "  <tbody>\n",
       "    <tr>\n",
       "      <th>0</th>\n",
       "      <td>19</td>\n",
       "      <td>1000065</td>\n",
       "      <td>12</td>\n",
       "      <td>19</td>\n",
       "    </tr>\n",
       "    <tr>\n",
       "      <th>1</th>\n",
       "      <td>37</td>\n",
       "      <td>1000073</td>\n",
       "      <td>20</td>\n",
       "      <td>36</td>\n",
       "    </tr>\n",
       "    <tr>\n",
       "      <th>2</th>\n",
       "      <td>523</td>\n",
       "      <td>1000499</td>\n",
       "      <td>446</td>\n",
       "      <td>521</td>\n",
       "    </tr>\n",
       "    <tr>\n",
       "      <th>3</th>\n",
       "      <td>13</td>\n",
       "      <td>1000064</td>\n",
       "      <td>11</td>\n",
       "      <td>10</td>\n",
       "    </tr>\n",
       "    <tr>\n",
       "      <th>4</th>\n",
       "      <td>23</td>\n",
       "      <td>1000063</td>\n",
       "      <td>10</td>\n",
       "      <td>19</td>\n",
       "    </tr>\n",
       "    <tr>\n",
       "      <th>5</th>\n",
       "      <td>29</td>\n",
       "      <td>1000065</td>\n",
       "      <td>12</td>\n",
       "      <td>24</td>\n",
       "    </tr>\n",
       "    <tr>\n",
       "      <th>6</th>\n",
       "      <td>547</td>\n",
       "      <td>1000463</td>\n",
       "      <td>410</td>\n",
       "      <td>541</td>\n",
       "    </tr>\n",
       "    <tr>\n",
       "      <th>7</th>\n",
       "      <td>41</td>\n",
       "      <td>1000072</td>\n",
       "      <td>19</td>\n",
       "      <td>34</td>\n",
       "    </tr>\n",
       "    <tr>\n",
       "      <th>8</th>\n",
       "      <td>17</td>\n",
       "      <td>1000059</td>\n",
       "      <td>6</td>\n",
       "      <td>9</td>\n",
       "    </tr>\n",
       "  </tbody>\n",
       "</table>\n",
       "</div>"
      ],
      "text/plain": [
       "   bus_id      arr  wait  id2\n",
       "0      19  1000065    12   19\n",
       "1      37  1000073    20   36\n",
       "2     523  1000499   446  521\n",
       "3      13  1000064    11   10\n",
       "4      23  1000063    10   19\n",
       "5      29  1000065    12   24\n",
       "6     547  1000463   410  541\n",
       "7      41  1000072    19   34\n",
       "8      17  1000059     6    9"
      ]
     },
     "execution_count": 14,
     "metadata": {},
     "output_type": "execute_result"
    }
   ],
   "source": [
    "df.sort_index()"
   ]
  },
  {
   "cell_type": "code",
   "execution_count": 15,
   "metadata": {},
   "outputs": [
    {
     "data": {
      "text/plain": [
       "id2    269015534432640\n",
       "dtype: int64"
      ]
     },
     "execution_count": 15,
     "metadata": {},
     "output_type": "execute_result"
    }
   ],
   "source": [
    "df[['id2']].prod() # answer is too low! 269015534432640\n",
    "# 269015534432640\n",
    "# 32774797080... 4 orders of magnitude difference from prev attempt"
   ]
  },
  {
   "cell_type": "code",
   "execution_count": 16,
   "metadata": {},
   "outputs": [],
   "source": [
    "# fuck it, I'd like to do this with numerical trickery, but I think it'll just be easier to do this computationally. \n",
    "\n",
    "#.... nah, that's both inelegant, and I think would take a really, really long time.\n",
    "\n",
    "# It'll probably help to formalize what I'm looking for."
   ]
  },
  {
   "cell_type": "markdown",
   "metadata": {},
   "source": [
    "Find `t0` such that:\n",
    "\n",
    "\\begin{align}\n",
    "t0 &= 19*\\beta_0 \\\\\n",
    "   &= 37*\\beta_1 -1 \\\\  \n",
    "   &= 523*\\beta_2 - 2 \\\\\n",
    "\\ldots\n",
    "   &= id_k * \\beta_k - k\n",
    "\\end{align}\n",
    "\n",
    "Alternatively:\n",
    "\n",
    "$$\n",
    " \\forall(k): 0 = id_k * \\beta_k - k - t0 \\\\\n",
    " \\beta_k > 0 \\\\\n",
    " \\beta_k \\in \\mathbb{R}\n",
    "$$\n",
    "\n",
    "where the betas are constrained to be integer valued. We are solving for the $\\beta_k$'s that minimize $t0$"
   ]
  },
  {
   "cell_type": "code",
   "execution_count": 17,
   "metadata": {},
   "outputs": [],
   "source": [
    "#There's probably a better way to go about this, but right now I'm leaning towards integer programming."
   ]
  },
  {
   "cell_type": "code",
   "execution_count": 18,
   "metadata": {},
   "outputs": [],
   "source": [
    "import ortools\n",
    "from ortools.sat.python import cp_model"
   ]
  },
  {
   "cell_type": "code",
   "execution_count": 19,
   "metadata": {},
   "outputs": [],
   "source": [
    "import mip\n",
    "# https://python-mip.readthedocs.io/en/latest/examples.html\n",
    "from mip import Model, minimize"
   ]
  },
  {
   "cell_type": "code",
   "execution_count": 79,
   "metadata": {},
   "outputs": [],
   "source": [
    "model = Model('mip-test7')"
   ]
  },
  {
   "cell_type": "code",
   "execution_count": 80,
   "metadata": {},
   "outputs": [],
   "source": [
    "t0 = model.add_var(name=\"t0\", var_type='i', lb=(df.bus_id - df.index).max()+1) # \"i\" - implicit constraint, can be removed\n",
    "#t0 = model.add_var(name=\"t0\", lb=(df.bus_id - df.index).max()) # \"i\" - implicit constraint, can be removed\n",
    "model.objective = minimize(t0)\n",
    "k = [v for v in df.index]\n",
    "#b = [model.add_var(f\"beta_{i}\", var_type='i', lb=1) for i in k]\n",
    "b = [model.add_var(f\"beta_{i}\", var_type='i', lb=1, obj=1) for i in k]\n",
    "\n",
    "# Add positive constraints to beta_k's\n",
    "#for b_k in b:\n",
    "#    model += b_k >= 1\n",
    "    \n",
    "# add problem constraints\n",
    "for ki, b_k, bus_id in zip(k, b, df.bus_id):\n",
    "    #model += b_k * bus_id - ki - t0 == 0\n",
    "    model += b_k * bus_id - ki == t0"
   ]
  },
  {
   "cell_type": "code",
   "execution_count": null,
   "metadata": {},
   "outputs": [],
   "source": [
    "%%time \n",
    "\n",
    "## 11:28\n",
    "#model.optimize(relax=True)\n",
    "model.optimize()"
   ]
  },
  {
   "cell_type": "code",
   "execution_count": 76,
   "metadata": {},
   "outputs": [
    {
     "data": {
      "text/plain": [
       "1"
      ]
     },
     "execution_count": 76,
     "metadata": {},
     "output_type": "execute_result"
    }
   ],
   "source": [
    "model.num_solutions"
   ]
  },
  {
   "cell_type": "code",
   "execution_count": 77,
   "metadata": {},
   "outputs": [
    {
     "data": {
      "text/plain": [
       "717.5114339846717"
      ]
     },
     "execution_count": 77,
     "metadata": {},
     "output_type": "execute_result"
    }
   ],
   "source": [
    "model.objective_value"
   ]
  },
  {
   "cell_type": "code",
   "execution_count": 78,
   "metadata": {},
   "outputs": [
    {
     "data": {
      "text/plain": [
       "(1.0, 32.352941176470594)"
      ]
     },
     "execution_count": 78,
     "metadata": {},
     "output_type": "execute_result"
    }
   ],
   "source": [
    "b[0].obj, b[0].x"
   ]
  },
  {
   "cell_type": "markdown",
   "metadata": {},
   "source": [
    "holy shit.... I'm pretty sure I've been using the wrong object this whole time. I don't actually have the correct offsets because I discarded all the x's when I read in the bus_ids. Ugh."
   ]
  },
  {
   "cell_type": "code",
   "execution_count": 5,
   "metadata": {},
   "outputs": [
    {
     "data": {
      "text/plain": [
       "[(19, 0),\n",
       " (37, 13),\n",
       " (523, 19),\n",
       " (13, 37),\n",
       " (23, 42),\n",
       " (29, 48),\n",
       " (547, 50),\n",
       " (41, 60),\n",
       " (17, 67)]"
      ]
     },
     "execution_count": 5,
     "metadata": {},
     "output_type": "execute_result"
    }
   ],
   "source": [
    "bus_offsets = [(int(bus_id), i) for i, bus_id in enumerate(busses_str.strip().split(',')) if bus_id != 'x']\n",
    "bus_offsets\n",
    "# ok, now we're cooking. Yeesh."
   ]
  },
  {
   "attachments": {},
   "cell_type": "markdown",
   "metadata": {},
   "source": [
    "New idea after playing with toy data in excel:\n",
    "\n",
    "Product ~~at the top~~ of elements is the periodicity of the system. the question is really what the initial value is. which is affected by sort order.\n",
    "\n",
    "## algorithm: \n",
    "\n",
    "- start with incrementer = to first position value\n",
    "- increment up to first position where first two values are in phase.\n",
    "- set incrementer to their product\n",
    "- increment until third value is in phase.\n",
    "- and so on"
   ]
  },
  {
   "cell_type": "code",
   "execution_count": 9,
   "metadata": {},
   "outputs": [],
   "source": [
    "def phaser(bus_offsets):\n",
    "    t0 = bus_offsets[0][0]\n",
    "    increment = t0\n",
    "    for i, (bus_id, offset) in enumerate(bus_offsets):\n",
    "        if i==0:\n",
    "            continue\n",
    "        while True:\n",
    "            t_bus = t0+offset\n",
    "            if t_bus % bus_id == 0:\n",
    "                increment *= bus_id\n",
    "                break\n",
    "            t0 += increment\n",
    "    return t0"
   ]
  },
  {
   "cell_type": "code",
   "execution_count": 14,
   "metadata": {},
   "outputs": [
    {
     "name": "stdout",
     "output_type": "stream",
     "text": [
      "Wall time: 0 ns\n"
     ]
    },
    {
     "data": {
      "text/plain": [
       "327300950120029"
      ]
     },
     "execution_count": 14,
     "metadata": {},
     "output_type": "execute_result"
    }
   ],
   "source": [
    "%%time\n",
    "phaser(bus_offsets) # not just correct, but fast too!"
   ]
  }
 ],
 "metadata": {
  "kernelspec": {
   "display_name": "Python 3",
   "language": "python",
   "name": "python3"
  },
  "language_info": {
   "codemirror_mode": {
    "name": "ipython",
    "version": 3
   },
   "file_extension": ".py",
   "mimetype": "text/x-python",
   "name": "python",
   "nbconvert_exporter": "python",
   "pygments_lexer": "ipython3",
   "version": "3.8.5"
  }
 },
 "nbformat": 4,
 "nbformat_minor": 4
}
