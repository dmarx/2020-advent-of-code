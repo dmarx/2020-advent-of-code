{
 "cells": [
  {
   "cell_type": "code",
   "execution_count": 95,
   "metadata": {},
   "outputs": [],
   "source": [
    "import numpy as np\n",
    "import pandas as pd\n",
    "import copy\n",
    "import matplotlib.pyplot as plt"
   ]
  },
  {
   "cell_type": "code",
   "execution_count": 2,
   "metadata": {},
   "outputs": [],
   "source": [
    "with open('input.txt','r') as f:\n",
    "    data = [int(line.strip()) for line in f if line]"
   ]
  },
  {
   "cell_type": "code",
   "execution_count": 41,
   "metadata": {},
   "outputs": [],
   "source": [
    "def count_gaps(data):\n",
    "    data.sort()\n",
    "    xv = np.array(data)\n",
    "    diffs = pd.Series(np.diff(xv, 1))\n",
    "    diffs = pd.Series([*diffs, diffs.min(), diffs.max()]) # account for outlet and wall\n",
    "    vcs = diffs.value_counts()\n",
    "    return vcs"
   ]
  },
  {
   "cell_type": "code",
   "execution_count": 42,
   "metadata": {},
   "outputs": [
    {
     "name": "stdout",
     "output_type": "stream",
     "text": [
      "1    75\n",
      "3    40\n",
      "dtype: int64\n"
     ]
    },
    {
     "data": {
      "text/plain": [
       "3000"
      ]
     },
     "execution_count": 42,
     "metadata": {},
     "output_type": "execute_result"
    }
   ],
   "source": [
    "vcs = count_gaps(data)\n",
    "print(vcs)\n",
    "vcs[1] * vcs[3]"
   ]
  },
  {
   "cell_type": "code",
   "execution_count": 38,
   "metadata": {},
   "outputs": [],
   "source": [
    "test_case1 = [int(line.strip()) for line in \"\"\"\n",
    "16\n",
    "10\n",
    "15\n",
    "5\n",
    "1\n",
    "11\n",
    "7\n",
    "19\n",
    "6\n",
    "12\n",
    "4\n",
    "\"\"\".split() if line]\n",
    "\n",
    "test_case2 = [int(line.strip()) for line in \"\"\"\n",
    "28\n",
    "33\n",
    "18\n",
    "42\n",
    "31\n",
    "14\n",
    "46\n",
    "20\n",
    "48\n",
    "47\n",
    "24\n",
    "23\n",
    "49\n",
    "45\n",
    "19\n",
    "38\n",
    "39\n",
    "11\n",
    "1\n",
    "32\n",
    "25\n",
    "35\n",
    "8\n",
    "17\n",
    "7\n",
    "9\n",
    "4\n",
    "2\n",
    "34\n",
    "10\n",
    "3\n",
    "\"\"\".split() if line]\n",
    "#test_cases"
   ]
  },
  {
   "cell_type": "code",
   "execution_count": 43,
   "metadata": {},
   "outputs": [
    {
     "name": "stdout",
     "output_type": "stream",
     "text": [
      "1    7\n",
      "3    5\n",
      "dtype: int64\n"
     ]
    },
    {
     "data": {
      "text/plain": [
       "35"
      ]
     },
     "execution_count": 43,
     "metadata": {},
     "output_type": "execute_result"
    }
   ],
   "source": [
    "vcs = count_gaps(test_case1)\n",
    "print(vcs)\n",
    "vcs[1] * vcs[3]"
   ]
  },
  {
   "cell_type": "code",
   "execution_count": 44,
   "metadata": {},
   "outputs": [
    {
     "name": "stdout",
     "output_type": "stream",
     "text": [
      "1    22\n",
      "3    10\n",
      "dtype: int64\n"
     ]
    },
    {
     "data": {
      "text/plain": [
       "220"
      ]
     },
     "execution_count": 44,
     "metadata": {},
     "output_type": "execute_result"
    }
   ],
   "source": [
    "vcs = count_gaps(test_case2)\n",
    "print(vcs)\n",
    "vcs[1] * vcs[3]"
   ]
  },
  {
   "cell_type": "markdown",
   "metadata": {},
   "source": [
    "# Part 2\n",
    "\n",
    "Methodology: build a ~~tree~~ DAG where each node is an adapter, and an edge denotes a potential transition to a following adapter.\n",
    "\n",
    "    >> THIS WILL NOT BE A TREE\n",
    "    \n",
    "Take the cumulative products of candidate children along each traversal to get a markovian score for each node for the number of possible paths that could lead up to it. From that point, it doesn't matter which path we're on it, is a valid prefix. \n",
    "\n",
    "... the question is essentially, given the transition matrix, how many paths are there from the source to the target? \n",
    "\n",
    "I think an efficient way to calculate this will be to sum the powers of the transition matrix until we have gone past the length of diameter of the graph."
   ]
  },
  {
   "cell_type": "markdown",
   "metadata": {},
   "source": [
    "...Or more simply: https://networkx.org/documentation/latest/reference/algorithms/generated/networkx.algorithms.simple_paths.all_simple_paths.html#networkx.algorithms.simple_paths.all_simple_paths"
   ]
  },
  {
   "cell_type": "code",
   "execution_count": 130,
   "metadata": {},
   "outputs": [],
   "source": [
    "# Meh, I like my way enough. Let's not even construct the graph object, just go straight to the transition matrix. \n",
    "# For the windowing function, I can just make a dense vector with 1's at indices where we have adaptors, and shift \n",
    "# it by the length of the lag I'm testing.\n",
    "\n",
    "# account for source and sink directly in data\n",
    "data2 = [*data, 0, max(data)+3]\n",
    "data2.sort()\n",
    "idx = np.array(data2)\n",
    "n = max(data2)+1\n",
    "s_xv = pd.Series(np.zeros(n))\n",
    "s_xv.iloc[idx] = 1"
   ]
  },
  {
   "cell_type": "code",
   "execution_count": 131,
   "metadata": {},
   "outputs": [
    {
     "data": {
      "text/plain": [
       "True"
      ]
     },
     "execution_count": 131,
     "metadata": {},
     "output_type": "execute_result"
    }
   ],
   "source": [
    "s_xv.sum() == len(data2)"
   ]
  },
  {
   "cell_type": "code",
   "execution_count": 135,
   "metadata": {},
   "outputs": [
    {
     "data": {
      "text/plain": [
       "((196,), 195)"
      ]
     },
     "execution_count": 135,
     "metadata": {},
     "output_type": "execute_result"
    }
   ],
   "source": [
    "s_xv.shape, max(data2)"
   ]
  },
  {
   "cell_type": "code",
   "execution_count": 128,
   "metadata": {},
   "outputs": [
    {
     "data": {
      "text/plain": [
       "(192, 195)"
      ]
     },
     "execution_count": 128,
     "metadata": {},
     "output_type": "execute_result"
    }
   ],
   "source": [
    "max(data), max(data2)"
   ]
  },
  {
   "cell_type": "code",
   "execution_count": 158,
   "metadata": {},
   "outputs": [],
   "source": [
    "adj = np.zeros((n,n))\n",
    "\n",
    "shifts = (1,2,3)\n",
    "for s in shifts:\n",
    "    i = s_xv[:-s]\n",
    "    j = s_xv[s:]\n",
    "    v = i.values*j.values\n",
    "    adj[i.index, j.index] += v\n",
    "\n",
    "adj = (1*(adj > 0)).astype(np.int64)"
   ]
  },
  {
   "cell_type": "code",
   "execution_count": 136,
   "metadata": {},
   "outputs": [
    {
     "data": {
      "text/plain": [
       "(196, 196)"
      ]
     },
     "execution_count": 136,
     "metadata": {},
     "output_type": "execute_result"
    }
   ],
   "source": [
    "adj.shape"
   ]
  },
  {
   "cell_type": "code",
   "execution_count": 117,
   "metadata": {},
   "outputs": [
    {
     "data": {
      "text/plain": [
       "3"
      ]
     },
     "execution_count": 117,
     "metadata": {},
     "output_type": "execute_result"
    }
   ],
   "source": [
    "# sanity check: no row should have more than 3 positive values\n",
    "adj.sum(axis=0).max()"
   ]
  },
  {
   "cell_type": "code",
   "execution_count": 159,
   "metadata": {},
   "outputs": [
    {
     "data": {
      "text/plain": [
       "<matplotlib.image.AxesImage at 0x12b3f773160>"
      ]
     },
     "execution_count": 159,
     "metadata": {},
     "output_type": "execute_result"
    },
    {
     "data": {
      "image/png": "[encoded data removed]",
      "text/plain": [
       "<Figure size 432x288 with 1 Axes>"
      ]
     },
     "metadata": {
      "needs_background": "light"
     },
     "output_type": "display_data"
    }
   ],
   "source": [
    "plt.imshow(adj)"
   ]
  },
  {
   "cell_type": "code",
   "execution_count": 160,
   "metadata": {},
   "outputs": [
    {
     "data": {
      "text/plain": [
       "array([0, 0, 0, 0, 0, 0, 0, 0, 0, 0, 0, 0, 0, 0, 0, 0, 0, 0, 0, 0, 0, 0,\n",
       "       0, 0, 0, 0, 0, 0, 0, 0, 0, 0, 0, 0, 0, 0, 0, 0, 0, 0, 0, 0, 0, 0,\n",
       "       0, 0, 0, 0, 0, 0, 0, 0, 0, 0, 0, 0, 0, 0, 0, 0, 0, 0, 0, 0, 0, 0,\n",
       "       0, 0, 0, 0, 0, 0, 0, 0, 0, 0, 0, 0, 0, 0, 0, 0, 0, 0, 0, 0, 0, 0,\n",
       "       0, 0, 0, 0, 0, 0, 0, 0, 0, 0, 0, 0, 0, 0, 0, 0, 0, 0, 0, 0, 0, 0,\n",
       "       0, 0, 0, 0, 0, 0, 0, 0, 0, 0, 0, 0, 0, 0, 0, 0, 0, 0, 0, 0, 0, 0,\n",
       "       0, 0, 0, 0, 0, 0, 0, 0, 0, 0, 0, 0, 0, 0, 0, 0, 0, 0, 0, 0, 0, 0,\n",
       "       0, 0, 0, 0, 0, 0, 0, 0, 0, 0, 0, 0, 0, 0, 0, 0, 0, 0, 0, 0, 0, 0,\n",
       "       0, 0, 0, 0, 0, 0, 0, 0, 0, 0, 0, 0, 0, 0, 0, 0, 1, 0, 0, 0],\n",
       "      dtype=int64)"
      ]
     },
     "execution_count": 160,
     "metadata": {},
     "output_type": "execute_result"
    }
   ],
   "source": [
    "adj[:,-1]"
   ]
  },
  {
   "cell_type": "code",
   "execution_count": 161,
   "metadata": {},
   "outputs": [
    {
     "data": {
      "text/plain": [
       "189"
      ]
     },
     "execution_count": 161,
     "metadata": {},
     "output_type": "execute_result"
    }
   ],
   "source": [
    "adj.sum()"
   ]
  },
  {
   "cell_type": "code",
   "execution_count": 162,
   "metadata": {},
   "outputs": [
    {
     "name": "stdout",
     "output_type": "stream",
     "text": [
      "1 0\n",
      "2 0\n",
      "3 0\n",
      "4 0\n",
      "5 0\n",
      "6 0\n",
      "7 0\n",
      "8 0\n",
      "9 0\n",
      "10 0\n",
      "11 0\n",
      "12 0\n",
      "13 0\n",
      "14 0\n",
      "15 0\n",
      "16 0\n",
      "17 0\n",
      "18 0\n",
      "19 0\n",
      "20 0\n",
      "21 0\n",
      "22 0\n",
      "23 0\n",
      "24 0\n",
      "25 0\n",
      "26 0\n",
      "27 0\n",
      "28 0\n",
      "29 0\n",
      "30 0\n",
      "31 0\n",
      "32 0\n",
      "33 0\n",
      "34 0\n",
      "35 0\n",
      "36 0\n",
      "37 0\n",
      "38 0\n",
      "39 0\n",
      "40 0\n",
      "41 0\n",
      "42 0\n",
      "43 0\n",
      "44 0\n",
      "45 0\n",
      "46 0\n",
      "47 0\n",
      "48 0\n",
      "49 0\n",
      "50 0\n",
      "51 0\n",
      "52 0\n",
      "53 0\n",
      "54 0\n",
      "55 0\n",
      "56 0\n",
      "57 0\n",
      "58 0\n",
      "59 0\n",
      "60 0\n",
      "61 0\n",
      "62 0\n",
      "63 0\n",
      "64 0\n",
      "65 0\n",
      "66 0\n",
      "67 0\n",
      "68 0\n",
      "69 0\n",
      "70 0\n",
      "71 0\n",
      "72 0\n",
      "73 6561\n",
      "74 223074\n",
      "75 3704778\n",
      "76 40061466\n",
      "77 317236014\n",
      "78 1961810442\n",
      "79 9867225438\n",
      "80 41511567042\n",
      "81 149108438520\n",
      "82 464559834438\n",
      "83 1271285193222\n",
      "84 3087456285006\n",
      "85 6713358857424\n",
      "86 13171205090610\n",
      "87 23481571185906\n",
      "88 38296037379690\n",
      "89 57513985085851\n",
      "90 80079266818196\n",
      "91 104108815130336\n",
      "92 127350060731476\n",
      "93 147787038314496\n",
      "94 164134842447516\n",
      "95 176031977402656\n",
      "96 183906658617836\n",
      "97 188643688604741\n",
      "98 191230313707222\n",
      "99 192510184878990\n",
      "100 193082730922494\n",
      "101 193313614062832\n",
      "102 193397234214530\n",
      "103 193424309577338\n",
      "104 193432102655674\n",
      "105 193434082522248\n",
      "106 193434522559566\n",
      "107 193434607155874\n",
      "108 193434621018278\n",
      "109 193434622916882\n",
      "110 193434623128390\n",
      "111 193434623146806\n",
      "112 193434623147982\n",
      "113 193434623148031\n",
      "114 193434623148032\n",
      "115 193434623148032\n",
      "116 193434623148032\n",
      "116\n"
     ]
    }
   ],
   "source": [
    "adj2 = copy.deepcopy(adj)\n",
    "n_paths = copy.deepcopy(adj)\n",
    "i=0\n",
    "#while adj2.sum() > 0:\n",
    "#while True:\n",
    "for _ in range(len(data2)):\n",
    "    i+=1\n",
    "    #adj2 = adj2@adj\n",
    "    adj2 = adj @ adj2\n",
    "    #if adj3.sum() > 0:\n",
    "    #    adj2 = copy.deepcopy(adj3)\n",
    "    n_paths += adj2\n",
    "    print(i, n_paths[0,-1])\n",
    "    #else:\n",
    "    #    break\n",
    "    \n",
    "print(i) \n",
    "# err..... yeah, that would be a 115 step path, sounds right\n",
    "# Oh man, we only make it to 44 steps now... interesting."
   ]
  },
  {
   "cell_type": "code",
   "execution_count": 163,
   "metadata": {},
   "outputs": [
    {
     "name": "stdout",
     "output_type": "stream",
     "text": [
      "1 0 0\n",
      "2 0 0\n",
      "3 0 0\n",
      "4 0 0\n",
      "5 0 0\n",
      "6 0 0\n",
      "7 0 0\n",
      "8 0 0\n",
      "9 0 0\n",
      "10 0 0\n",
      "11 0 0\n",
      "12 0 0\n",
      "13 0 0\n",
      "14 0 0\n",
      "15 0 0\n",
      "16 0 0\n",
      "17 0 0\n",
      "18 0 0\n",
      "19 0 0\n",
      "20 0 0\n",
      "21 0 0\n",
      "22 0 0\n",
      "23 0 0\n",
      "24 0 0\n",
      "25 0 0\n",
      "26 0 0\n",
      "27 0 0\n",
      "28 0 0\n",
      "29 0 0\n",
      "30 0 0\n",
      "31 0 0\n",
      "32 0 0\n",
      "33 0 0\n",
      "34 0 0\n",
      "35 0 0\n",
      "36 0 0\n",
      "37 0 0\n",
      "38 0 0\n",
      "39 0 0\n",
      "40 0 0\n",
      "41 0 0\n",
      "42 0 0\n",
      "43 0 0\n",
      "44 0 0\n",
      "45 0 0\n",
      "46 0 0\n",
      "47 0 0\n",
      "48 0 0\n",
      "49 0 0\n",
      "50 0 0\n",
      "51 0 0\n",
      "52 0 0\n",
      "53 0 0\n",
      "54 0 0\n",
      "55 0 0\n",
      "56 0 0\n",
      "57 0 0\n",
      "58 0 0\n",
      "59 0 0\n",
      "60 0 0\n",
      "61 0 0\n",
      "62 0 0\n",
      "63 0 0\n",
      "64 0 0\n",
      "65 0 0\n",
      "66 0 0\n",
      "67 0 0\n",
      "68 0 0\n",
      "69 0 0\n",
      "70 0 0\n",
      "71 0 0\n",
      "72 0 0\n",
      "73 0 0\n",
      "74 6561 6561\n",
      "75 216513 223074\n",
      "76 3481704 3704778\n",
      "77 36356688 40061466\n",
      "78 277174548 317236014\n",
      "79 1644574428 1961810442\n",
      "80 7905414996 9867225438\n",
      "81 31644341604 41511567042\n",
      "82 107596871478 149108438520\n",
      "83 315451395918 464559834438\n",
      "84 806725358784 1271285193222\n",
      "85 1816171091784 3087456285006\n",
      "86 3625902572418 6713358857424\n",
      "87 6457846233186 13171205090610\n",
      "88 10310366095296 23481571185906\n",
      "89 14814466193784 38296037379690\n",
      "90 19217947706161 57513985085851\n",
      "91 22565281732345 80079266818196\n",
      "92 24029548312140 104108815130336\n",
      "93 23241245601140 127350060731476\n",
      "94 20436977583020 147787038314496\n",
      "95 16347804133020 164134842447516\n",
      "96 11897134955140 176031977402656\n",
      "97 7874681215180 183906658617836\n",
      "98 4737029986905 188643688604741\n",
      "99 2586625102481 191230313707222\n",
      "100 1279871171768 192510184878990\n",
      "101 572546043504 193082730922494\n",
      "102 230883140338 193313614062832\n",
      "103 83620151698 193397234214530\n",
      "104 27075362808 193424309577338\n",
      "105 7793078336 193432102655674\n",
      "106 1979866574 193434082522248\n",
      "107 440037318 193434522559566\n",
      "108 84596308 193434607155874\n",
      "109 13862404 193434621018278\n",
      "110 1898604 193434622916882\n",
      "111 211508 193434623128390\n",
      "112 18416 193434623146806\n",
      "113 1176 193434623147982\n",
      "114 49 193434623148031\n",
      "115 1 193434623148032\n",
      "116 0 193434623148032\n"
     ]
    }
   ],
   "source": [
    "npaths = np.int64(0)\n",
    "for k in range(1, len(data2) + 1):\n",
    "    adjk = np.linalg.matrix_power(adj,k)\n",
    "    #npaths += adjk[0,-1] \n",
    "    #npaths += np.max([0, adjk[0,-1]]) # if we get a negative value for some reason, just ignore it.\n",
    "    npaths += np.abs(adjk[0,-1])  # uh... maybe we just pretend those negatives are positive?\n",
    "    print(k, adjk[0,-1], npaths)"
   ]
  },
  {
   "cell_type": "code",
   "execution_count": null,
   "metadata": {},
   "outputs": [],
   "source": [
    "# 10770972672 # too low\n",
    "# 21910088137 # still too low\n",
    "# 193434623148032 Correct!\n",
    "\n",
    "# My version way faster than calling np.linalg.matrix_power \n",
    "# (probably because I'm implicitly memoizing the intermediate results of the linalg operation)"
   ]
  }
 ],
 "metadata": {
  "kernelspec": {
   "display_name": "Python 3",
   "language": "python",
   "name": "python3"
  },
  "language_info": {
   "codemirror_mode": {
    "name": "ipython",
    "version": 3
   },
   "file_extension": ".py",
   "mimetype": "text/x-python",
   "name": "python",
   "nbconvert_exporter": "python",
   "pygments_lexer": "ipython3",
   "version": "3.8.5"
  }
 },
 "nbformat": 4,
 "nbformat_minor": 4
}
